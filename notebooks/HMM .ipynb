{
 "cells": [
  {
   "cell_type": "code",
   "execution_count": 2,
   "metadata": {
    "collapsed": true
   },
   "outputs": [],
   "source": [
    "import pandas as pd"
   ]
  },
  {
   "cell_type": "code",
   "execution_count": 382,
   "metadata": {},
   "outputs": [],
   "source": [
    "# test\n",
    "import datetime\n",
    "\n",
    "import numpy as np\n",
    "import matplotlib.pyplot as plt\n",
    "try:\n",
    "     from matplotlib.finance import quotes_historical_yahoo_ochl\n",
    "except ImportError:\n",
    "     # quotes_historical_yahoo_ochl was named quotes_historical_yahoo before matplotlib 1.4\n",
    "     \n",
    "     from matplotlib.finance import quotes_historical_yahoo as quotes_historical_yahoo_ochl\n",
    "from matplotlib.collections import LineCollection\n",
    "from sklearn import cluster, covariance, manifold"
   ]
  },
  {
   "cell_type": "code",
   "execution_count": 737,
   "metadata": {},
   "outputs": [],
   "source": [
    "datapath = '/Users/apple/Desktop/big_data/project/data/'\n",
    "# zipcode by restaurant\n",
    "restaurant = pd.read_csv(datapath+ 'restaurant_summary.csv')\n",
    "# zipcode by business\n",
    "business = pd.read_csv(datapath+ 'business_summary.csv',index_col = 0)\n",
    "business = business.rename(columns = {'zipcode':'ZIPCODE','count':'business_amount'})\n",
    "# ZIPCODE BY CRIME\n",
    "crime = dict([\n",
    " ('00083', 5397),\n",
    " ('10001', 81415),\n",
    " ('10002', 57945),\n",
    " ('10003', 58878),\n",
    " ('10004', 4983),\n",
    " ('10005', 3348),\n",
    " ('10006', 3623),\n",
    " ('10007', 15804),\n",
    " ('10009', 34083),\n",
    " ('10010', 21027),\n",
    " ('10011', 49565),\n",
    " ('10012', 31773),\n",
    " ('10013', 34247),\n",
    " ('10014', 29587),\n",
    " ('10016', 28789),\n",
    " ('10017', 17083),\n",
    " ('10018', 30819),\n",
    " ('10019', 46790),\n",
    " ('10020', 3817),\n",
    " ('10021', 11004),\n",
    " ('10022', 27040),\n",
    " ('10023', 30857),\n",
    " ('10024', 24206),\n",
    " ('10025', 48674),\n",
    " ('10026', 33806),\n",
    " ('10027', 70348),\n",
    " ('10028', 15964),\n",
    " ('10029', 78570),\n",
    " ('10030', 28851),\n",
    " ('10031', 48969),\n",
    " ('10032', 37421),\n",
    " ('10033', 30079),\n",
    " ('10034', 22328),\n",
    " ('10035', 52059),\n",
    " ('10036', 52377),\n",
    " ('10037', 16218),\n",
    " ('10038', 13315),\n",
    " ('10039', 26237),\n",
    " ('10040', 18911),\n",
    " ('10044', 1440),\n",
    " ('10048', 258),\n",
    " ('10065', 15692),\n",
    " ('10069', 589),\n",
    " ('10075', 6457),\n",
    " ('10111', 371),\n",
    " ('10115', 59),\n",
    " ('10128', 17053),\n",
    " ('10169', 22),\n",
    " ('10280', 1324),\n",
    " ('10281', 237),\n",
    " ('10282', 1250),\n",
    " ('10301', 33119),\n",
    " ('10302', 16159),\n",
    " ('10303', 19771),\n",
    " ('10304', 31932),\n",
    " ('10305', 20734),\n",
    " ('10306', 25250),\n",
    " ('10307', 5716),\n",
    " ('10308', 10067),\n",
    " ('10309', 13817),\n",
    " ('10310', 18615),\n",
    " ('10312', 18732),\n",
    " ('10314', 42598),\n",
    " ('10451', 56797),\n",
    " ('10452', 67130),\n",
    " ('10453', 60994),\n",
    " ('10454', 48587),\n",
    " ('10455', 52563),\n",
    " ('10456', 85492),\n",
    " ('10457', 79865),\n",
    " ('10458', 68116),\n",
    " ('10459', 53764),\n",
    " ('10460', 54974),\n",
    " ('10461', 32873),\n",
    " ('10462', 47165),\n",
    " ('10463', 39495),\n",
    " ('10464', 2534),\n",
    " ('10465', 22836),\n",
    " ('10466', 42012),\n",
    " ('10467', 71601),\n",
    " ('10468', 63895),\n",
    " ('10469', 34848),\n",
    " ('10470', 9906),\n",
    " ('10471', 9276),\n",
    " ('10472', 61723),\n",
    " ('10473', 50192),\n",
    " ('10474', 21706),\n",
    " ('10475', 21728),\n",
    " ('11001', 814),\n",
    " ('11004', 2865),\n",
    " ('11005', 391),\n",
    " ('11040', 1124),\n",
    " ('11096', 64),\n",
    " ('11101', 34361),\n",
    " ('11102', 16349),\n",
    " ('11103', 19366),\n",
    " ('11104', 9613),\n",
    " ('11105', 14194),\n",
    " ('11106', 19967),\n",
    " ('11109', 354),\n",
    " ('11201', 61944),\n",
    " ('11203', 54558),\n",
    " ('11204', 21582),\n",
    " ('11205', 30881),\n",
    " ('11206', 75118),\n",
    " ('11207', 98757),\n",
    " ('11208', 79752),\n",
    " ('11209', 34015),\n",
    " ('11210', 35171),\n",
    " ('11211', 49520),\n",
    " ('11212', 93101),\n",
    " ('11213', 56057),\n",
    " ('11214', 36690),\n",
    " ('11215', 29572),\n",
    " ('11216', 54451),\n",
    " ('11217', 34989),\n",
    " ('11218', 24178),\n",
    " ('11219', 24166),\n",
    " ('11220', 42589),\n",
    " ('11221', 68189),\n",
    " ('11222', 20120),\n",
    " ('11223', 32956),\n",
    " ('11224', 37632),\n",
    " ('11225', 42029),\n",
    " ('11226', 75691),\n",
    " ('11228', 13767),\n",
    " ('11229', 32855),\n",
    " ('11230', 25537),\n",
    " ('11231', 23254),\n",
    " ('11232', 19507),\n",
    " ('11233', 74915),\n",
    " ('11234', 48162),\n",
    " ('11235', 35495),\n",
    " ('11236', 59597),\n",
    " ('11237', 32127),\n",
    " ('11238', 31127),\n",
    " ('11239', 10957),\n",
    " ('11251', 867),\n",
    " ('11354', 32459),\n",
    " ('11355', 22441),\n",
    " ('11356', 9847),\n",
    " ('11357', 9677),\n",
    " ('11358', 10247),\n",
    " ('11359', 18),\n",
    " ('11360', 4051),\n",
    " ('11361', 10398),\n",
    " ('11362', 4853),\n",
    " ('11363', 1763),\n",
    " ('11364', 8581),\n",
    " ('11365', 12736),\n",
    " ('11366', 3941),\n",
    " ('11367', 15497),\n",
    " ('11368', 43628),\n",
    " ('11369', 23785),\n",
    " ('11370', 19977),\n",
    " ('11371', 646),\n",
    " ('11372', 34895),\n",
    " ('11373', 41618),\n",
    " ('11374', 15857),\n",
    " ('11375', 21804),\n",
    " ('11377', 35106),\n",
    " ('11378', 16729),\n",
    " ('11379', 11795),\n",
    " ('11385', 53581),\n",
    " ('11411', 7962),\n",
    " ('11412', 19323),\n",
    " ('11413', 20970),\n",
    " ('11414', 10011),\n",
    " ('11415', 6167),\n",
    " ('11416', 13005),\n",
    " ('11417', 16767),\n",
    " ('11418', 20442),\n",
    " ('11419', 25194),\n",
    " ('11420', 24013),\n",
    " ('11421', 16374),\n",
    " ('11422', 12453),\n",
    " ('11423', 13603),\n",
    " ('11426', 6137),\n",
    " ('11427', 7751),\n",
    " ('11428', 6867),\n",
    " ('11429', 12704),\n",
    " ('11430', 1578),\n",
    " ('11432', 39902),\n",
    " ('11433', 34348),\n",
    " ('11434', 41584),\n",
    " ('11435', 29495),\n",
    " ('11436', 12375),\n",
    " ('11451', 27),\n",
    " ('11691', 39422),\n",
    " ('11692', 11044),\n",
    " ('11693', 10011),\n",
    " ('11694', 8622),\n",
    " ('11697', 853)])\n",
    "#population and area \n",
    "other = pd.read_csv(datapath+'zipcode.csv')\n",
    "other = other[['ZIPCODE','POPULATION','AREA']]"
   ]
  },
  {
   "cell_type": "code",
   "execution_count": 738,
   "metadata": {},
   "outputs": [],
   "source": [
    "#crime = pd.Series(crime)\n",
    "#crime.index = [float(x) for x in crime.index]\n",
    "crime = pd.read_csv('/Users/apple/Desktop/big_data/project/data/crime_summary.csv',index_col =0)"
   ]
  },
  {
   "cell_type": "code",
   "execution_count": 739,
   "metadata": {},
   "outputs": [],
   "source": [
    "crime = crime[['ARSON',\n",
    "       'ASSAULT 3 & RELATED OFFENSES',  'BURGLARY','DANGEROUS DRUGS', 'DANGEROUS WEAPONS', 'FELONY ASSAULT','ROBBERY','THEFT OF SERVICES',\n",
    "       'THEFT-FRAUD', 'UNAUTHORIZED USE OF A VEHICLE',\n",
    "       'VEHICLE AND TRAFFIC LAWS',]]\n"
   ]
  },
  {
   "cell_type": "code",
   "execution_count": 601,
   "metadata": {},
   "outputs": [],
   "source": [
    "data = pd.merge(business,restaurant, on='ZIPCODE', how='outer')\n",
    "data = data.fillna(0)\n",
    "data.index = data['ZIPCODE']\n",
    "data = data.join(crime)\n",
    "data = data.fillna(0)"
   ]
  },
  {
   "cell_type": "code",
   "execution_count": 421,
   "metadata": {
    "collapsed": true
   },
   "outputs": [],
   "source": [
    "restaurant.index = restaurant.ZIPCODE\n",
    "#restaurant['crime_all'] = crime\n",
    "restaurant = restaurant.dropna()\n",
    "restaurant = restaurant.drop(['ZIPCODE'],1)"
   ]
  },
  {
   "cell_type": "code",
   "execution_count": 740,
   "metadata": {},
   "outputs": [],
   "source": [
    "business.index = business.ZIPCODE\n",
    "#business['crime_all'] = crime\n",
    "business = business.join(crime)\n",
    "business = business.dropna()\n",
    "business = business.drop(['ZIPCODE'],1)"
   ]
  },
  {
   "cell_type": "code",
   "execution_count": 390,
   "metadata": {},
   "outputs": [],
   "source": [
    "other = other[[True if x in data.index else False for x in other['ZIPCODE']]][['AREA','POPULATION','ZIPCODE']]\n",
    "data_all = pd.merge(data,other,on ='ZIPCODE',how='left' )"
   ]
  },
  {
   "cell_type": "code",
   "execution_count": 391,
   "metadata": {},
   "outputs": [],
   "source": [
    "data_all = data_all.fillna(0)"
   ]
  },
  {
   "cell_type": "code",
   "execution_count": 392,
   "metadata": {},
   "outputs": [],
   "source": [
    "data_all.index = data_all['ZIPCODE']\n",
    "data_all = data_all.drop(['ZIPCODE'],1)"
   ]
  },
  {
   "cell_type": "code",
   "execution_count": 289,
   "metadata": {},
   "outputs": [
    {
     "data": {
      "text/plain": [
       "14"
      ]
     },
     "execution_count": 289,
     "metadata": {},
     "output_type": "execute_result"
    }
   ],
   "source": [
    "len(data_all.columns[data_all.sum(0)>10000])"
   ]
  },
  {
   "cell_type": "code",
   "execution_count": 741,
   "metadata": {},
   "outputs": [],
   "source": [
    "data_selected = data_all[data_all.columns[data_all.sum(0)>10000]]\n",
    "data_selected = data_all[['crime_all','business_amount','restaurant_amount','POPULATION','AREA']]\n",
    "data_selected = business[business.columns[business.sum(0)>1000]]\n",
    "#data_selected = data_selected.drop(['sidewalk cafe', 'laundry jobber'],1)\n",
    "#data_selected = crime[crime.columns[crime.sum(0)>3000]]\n",
    "#data_selected = data_selected.drop(['FELONY', 'MISDEMEANOR', 'VIOLATION'],1)"
   ]
  },
  {
   "cell_type": "code",
   "execution_count": 742,
   "metadata": {},
   "outputs": [
    {
     "data": {
      "text/plain": [
       "Index(['business_amount', 'cigarette retail dealer',\n",
       "       'electronic & appliance service', 'electronics store', 'garage',\n",
       "       'general vendor', 'home improvement contractor',\n",
       "       'home improvement salesperson', 'laundry', 'laundry jobber',\n",
       "       'locksmith', 'secondhand dealer - general', 'sidewalk cafe',\n",
       "       'stoop line stand', 'ticket seller', 'tow truck driver', 'ARSON',\n",
       "       'ASSAULT 3 & RELATED OFFENSES', 'BURGLARY', 'DANGEROUS DRUGS',\n",
       "       'DANGEROUS WEAPONS', 'FELONY ASSAULT', 'ROBBERY', 'THEFT OF SERVICES',\n",
       "       'THEFT-FRAUD', 'UNAUTHORIZED USE OF A VEHICLE',\n",
       "       'VEHICLE AND TRAFFIC LAWS'],\n",
       "      dtype='object')"
      ]
     },
     "execution_count": 742,
     "metadata": {},
     "output_type": "execute_result"
    }
   ],
   "source": [
    "names = data_selected.columns\n",
    "names "
   ]
  },
  {
   "cell_type": "code",
   "execution_count": 743,
   "metadata": {},
   "outputs": [
    {
     "name": "stderr",
     "output_type": "stream",
     "text": [
      "/Users/apple/anaconda3/lib/python3.5/site-packages/sklearn/covariance/graph_lasso_.py:252: ConvergenceWarning: graph_lasso: did not converge after 100 iteration: dual gap: -2.293e-03\n",
      "  ConvergenceWarning)\n"
     ]
    },
    {
     "data": {
      "text/plain": [
       "GraphLassoCV(alphas=4, assume_centered=False, cv=None, enet_tol=0.0001,\n",
       "       max_iter=100, mode='cd', n_jobs=1, n_refinements=4, tol=0.0001,\n",
       "       verbose=False)"
      ]
     },
     "execution_count": 743,
     "metadata": {},
     "output_type": "execute_result"
    }
   ],
   "source": [
    "edge_model = covariance.GraphLassoCV()\n",
    "\n",
    "# standardize the time series: using correlations rather than covariance\n",
    "# is more efficient for structure recovery\n",
    "X = variation.copy().T\n",
    "X /= X.std(axis=0)\n",
    "edge_model.fit(data_selected)"
   ]
  },
  {
   "cell_type": "code",
   "execution_count": 744,
   "metadata": {},
   "outputs": [
    {
     "name": "stdout",
     "output_type": "stream",
     "text": [
      "Cluster 1: cigarette retail dealer, stoop line stand, ticket seller, THEFT-FRAUD\n",
      "Cluster 2: electronic & appliance service, garage, laundry\n",
      "Cluster 3: business_amount, electronics store, sidewalk cafe\n",
      "Cluster 4: home improvement contractor, ARSON, THEFT OF SERVICES\n",
      "Cluster 5: general vendor, home improvement salesperson, laundry jobber, locksmith, tow truck driver\n",
      "Cluster 6: secondhand dealer - general, UNAUTHORIZED USE OF A VEHICLE\n",
      "Cluster 7: ASSAULT 3 & RELATED OFFENSES, BURGLARY, DANGEROUS DRUGS, DANGEROUS WEAPONS, FELONY ASSAULT, ROBBERY, VEHICLE AND TRAFFIC LAWS\n"
     ]
    }
   ],
   "source": [
    "_, labels = cluster.affinity_propagation(edge_model.covariance_)\n",
    "n_labels = labels.max()\n",
    "\n",
    "for i in range(n_labels + 1):\n",
    "    print('Cluster %i: %s' % ((i + 1), ', '.join(names[labels == i])))\n"
   ]
  },
  {
   "cell_type": "code",
   "execution_count": 747,
   "metadata": {
    "collapsed": true
   },
   "outputs": [],
   "source": [
    "# We use a dense eigen_solver to achieve reproducibility (arpack is\n",
    "# initiated with random vectors that we don't control). In addition, we\n",
    "# use a large number of neighbors to capture the large-scale structure.\n",
    "node_position_model = manifold.LocallyLinearEmbedding(\n",
    "    n_components=2, eigen_solver='dense', n_neighbors=4)\n",
    "\n",
    "embedding = node_position_model.fit_transform(data_selected.T).T"
   ]
  },
  {
   "cell_type": "code",
   "execution_count": 748,
   "metadata": {
    "collapsed": true
   },
   "outputs": [],
   "source": [
    "% matplotlib inline"
   ]
  },
  {
   "cell_type": "code",
   "execution_count": null,
   "metadata": {},
   "outputs": [],
   "source": []
  },
  {
   "cell_type": "code",
   "execution_count": 751,
   "metadata": {
    "scrolled": false
   },
   "outputs": [
    {
     "data": {
      "image/png": "[encoded data removed]",
      "text/plain": [
       "<matplotlib.figure.Figure at 0x118d5c390>"
      ]
     },
     "metadata": {},
     "output_type": "display_data"
    }
   ],
   "source": [
    "plt.figure(1, facecolor='w', figsize=(8,10))\n",
    "plt.clf()\n",
    "ax = plt.axes([0., 0., 1., 1.])\n",
    "plt.axis('off')\n",
    "\n",
    "# Display a graph of the partial correlations\n",
    "partial_correlations = edge_model.precision_.copy()\n",
    "d = 1 / np.sqrt(np.diag(partial_correlations))\n",
    "partial_correlations *= d\n",
    "partial_correlations *= d[:, np.newaxis]\n",
    "non_zero = (np.abs(np.triu(partial_correlations, k=1)) > 0.000002 ) & \\\n",
    "(np.abs(np.triu(partial_correlations, k=1)) < 0.2 )\n",
    "\n",
    "# Plot the nodes using the coordinates of our embedding\n",
    "plt.scatter(embedding[0], embedding[1], c=labels, s= 5*d ** 0.5,\n",
    "            cmap=plt.cm.spectral)\n",
    "\n",
    "# Plot the edges\n",
    "start_idx, end_idx = np.where(non_zero)\n",
    "#a sequence of (*line0*, *line1*, *line2*), where::\n",
    "#            linen = (x0, y0), (x1, y1), ... (xm, ym)\n",
    "segments = [[embedding[:, start], embedding[:, stop]]\n",
    "            for start, stop in zip(start_idx, end_idx)]\n",
    "values = np.abs(partial_correlations[non_zero])\n",
    "lc = LineCollection(segments,\n",
    "                    zorder=0, cmap=plt.cm.hot_r,\n",
    "                    norm=plt.Normalize(0, .7 * values.max()))\n",
    "lc.set_array(values)\n",
    "lc.set_linewidths(85 * values)\n",
    "ax.add_collection(lc)\n",
    "\n",
    "# Add a label to each node. The challenge here is that we want to\n",
    "# position the labels to avoid overlap with other labels\n",
    "for index, (name, label, (x, y)) in enumerate(\n",
    "        zip(names, labels, embedding.T)):\n",
    "\n",
    "    dx = x - embedding[0]\n",
    "    dx[index] = 1\n",
    "    dy = y - embedding[1]\n",
    "    dy[index] = 1\n",
    "    this_dx = dx[np.argmin(np.abs(dy))]\n",
    "    this_dy = dy[np.argmin(np.abs(dx))]\n",
    "    if this_dx > 0:\n",
    "        horizontalalignment = 'left'\n",
    "        x = x + .002\n",
    "    else:\n",
    "        horizontalalignment = 'right'\n",
    "        x = x - .002\n",
    "    if this_dy > 0:\n",
    "        verticalalignment = 'bottom'\n",
    "        y = y + .002\n",
    "    else:\n",
    "        verticalalignment = 'top'\n",
    "        y = y - .002\n",
    "    plt.text(x, y, name, size=10,\n",
    "             horizontalalignment=horizontalalignment,\n",
    "             verticalalignment=verticalalignment,\n",
    "             bbox=dict(facecolor='w',\n",
    "                       edgecolor=plt.cm.spectral(label / float(n_labels)),\n",
    "                       alpha=.6))\n",
    "\n",
    "plt.xlim(embedding[0].min() - .15 * embedding[0].ptp(),\n",
    "         embedding[0].max() + .10 * embedding[0].ptp(),)\n",
    "plt.ylim(embedding[1].min() - .03 * embedding[1].ptp(),\n",
    "         embedding[1].max() + .03 * embedding[1].ptp())\n",
    "\n",
    "plt.show()"
   ]
  },
  {
   "cell_type": "code",
   "execution_count": 698,
   "metadata": {},
   "outputs": [
    {
     "data": {
      "text/plain": [
       "array([[ 1.        ,  0.28198797],\n",
       "       [ 0.28198797,  1.        ]])"
      ]
     },
     "execution_count": 698,
     "metadata": {},
     "output_type": "execute_result"
    }
   ],
   "source": [
    "np.corrcoef(data_all['crime_all'], data_all['AREA'])"
   ]
  },
  {
   "cell_type": "code",
   "execution_count": 591,
   "metadata": {},
   "outputs": [
    {
     "ename": "SyntaxError",
     "evalue": "invalid syntax (<ipython-input-591-4ccbb3759ceb>, line 1)",
     "output_type": "error",
     "traceback": [
      "\u001b[0;36m  File \u001b[0;32m\"<ipython-input-591-4ccbb3759ceb>\"\u001b[0;36m, line \u001b[0;32m1\u001b[0m\n\u001b[0;31m    fig, ax = plt.subplots(nrows=2,ncols=)\u001b[0m\n\u001b[0m                                         ^\u001b[0m\n\u001b[0;31mSyntaxError\u001b[0m\u001b[0;31m:\u001b[0m invalid syntax\n"
     ]
    }
   ],
   "source": [
    "fig, ax = plt.subplots(nrows=2,ncols=)\n",
    "plt.show()\n",
    "for row in ax:\n",
    "    for col in row:\n",
    "        col.plot(x, y)\n",
    "\n",
    "ax\n",
    "plt.scatter(np.log(data_all['crime_all']), np.log(data_all['AREA']))\n",
    "            \n",
    "plt.scatter(data_all['crime_all'], data_all['POPULATION'])\n",
    "            \n",
    "    "
   ]
  },
  {
   "cell_type": "code",
   "execution_count": null,
   "metadata": {
    "collapsed": true
   },
   "outputs": [],
   "source": []
  }
 ],
 "metadata": {
  "kernelspec": {
   "display_name": "Python [Root]",
   "language": "python",
   "name": "Python [Root]"
  },
  "language_info": {
   "codemirror_mode": {
    "name": "ipython",
    "version": 3
   },
   "file_extension": ".py",
   "mimetype": "text/x-python",
   "name": "python",
   "nbconvert_exporter": "python",
   "pygments_lexer": "ipython3",
   "version": "3.5.2"
  }
 },
 "nbformat": 4,
 "nbformat_minor": 2
}
