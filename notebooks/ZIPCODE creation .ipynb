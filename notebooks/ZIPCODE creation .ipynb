{
 "cells": [
  {
   "cell_type": "code",
   "execution_count": 5,
   "metadata": {
    "collapsed": true
   },
   "outputs": [],
   "source": [
    "import pyspark\n",
    "from pyspark.mllib.stat import Statistics\n",
    "from csv import reader\n",
    "import pandas as pd\n",
    "import numpy as np\n",
    "import re"
   ]
  },
  {
   "cell_type": "code",
   "execution_count": 6,
   "metadata": {},
   "outputs": [
    {
     "ename": "NameError",
     "evalue": "name 'sc' is not defined",
     "output_type": "error",
     "traceback": [
      "\u001b[0;31m---------------------------------------------------------------------------\u001b[0m",
      "\u001b[0;31mNameError\u001b[0m                                 Traceback (most recent call last)",
      "\u001b[0;32m<ipython-input-6-2dada2de2c4b>\u001b[0m in \u001b[0;36m<module>\u001b[0;34m()\u001b[0m\n\u001b[0;32m----> 1\u001b[0;31m \u001b[0mdata\u001b[0m \u001b[0;34m=\u001b[0m \u001b[0msc\u001b[0m\u001b[0;34m.\u001b[0m\u001b[0mtextFile\u001b[0m\u001b[0;34m(\u001b[0m\u001b[0;34m'/Users/apple/Desktop/big_data/project/data/NYPD_Complaint_Data_Historic.csv'\u001b[0m\u001b[0;34m,\u001b[0m \u001b[0;36m1\u001b[0m\u001b[0;34m)\u001b[0m           \u001b[0;34m.\u001b[0m\u001b[0mmapPartitions\u001b[0m\u001b[0;34m(\u001b[0m\u001b[0;32mlambda\u001b[0m \u001b[0mx\u001b[0m\u001b[0;34m:\u001b[0m \u001b[0mreader\u001b[0m\u001b[0;34m(\u001b[0m\u001b[0mx\u001b[0m\u001b[0;34m)\u001b[0m\u001b[0;34m)\u001b[0m\u001b[0;34m\u001b[0m\u001b[0m\n\u001b[0m",
      "\u001b[0;31mNameError\u001b[0m: name 'sc' is not defined"
     ]
    }
   ],
   "source": [
    "data = sc.textFile('/Users/apple/Desktop/big_data/project/data/NYPD_Complaint_Data_Historic.csv', 1) \\\n",
    "          .mapPartitions(lambda x: reader(x))"
   ]
  },
  {
   "cell_type": "code",
   "execution_count": null,
   "metadata": {
    "collapsed": true
   },
   "outputs": [],
   "source": [
    "header = data.first()\n",
    "data = data.filter(lambda x: x != header)\n",
    "CMPLNT_NUM=0\n",
    "\n",
    "CMPLNT_FR_DT=1\n",
    "CMPLNT_FR_TM=2\n",
    "CMPLNT_TO_DT=3\n",
    "CMPLNT_TO_TM=4\n",
    "\n",
    "RPT_DT=5\n",
    "\n",
    "KY_CD=6\n",
    "OFNS_DESC=7\n",
    "\n",
    "PD_CD=8\n",
    "PD_DESC=9\n",
    "\n",
    "CRM_ATPT_CPTD_CD=10\n",
    "LAW_CAT_CD=11\n",
    "JURIS_DESC=12\n",
    "\n",
    "\n",
    "\n",
    "LOC_OF_OCCUR_DESC=15\n",
    "PREM_TYP_DESC=16\n",
    "PARKS_NM=17\n",
    "HADEVELOPT=18\n",
    "\n",
    "\n",
    "BORO_NM=13\n",
    "ADDR_PCT_CD=14\n",
    "\n",
    "X_COORD_CD=19\n",
    "Y_COORD_CD=20\n",
    "Latitude=21\n",
    "Longitude=22\n",
    "Lat_Lon = 23\n",
    "from geopy.geocoders import Nominatim\n",
    "def transform_to_zipcode(string):\n",
    "    geolocator = Nominatim()\n",
    "    location = geolocator.reverse(string)\n",
    "    return location.raw['address']['postcode']\n",
    "def check_and_create(lat,long):\n",
    "    if lat=='':\n",
    "        return ''\n",
    "    else:\n",
    "        return transform_to_zipcode(lat+', '+long)\n",
    "\n",
    "ZIPCODE  =  data.map(lambda x: check_and_create(x[Latitude],x[Longitude]))\n",
    "\n",
    "zipcode = ZIPCODE.collect()#('/Users/apple/Desktop/big_data/project/data/Crime_ZIPCODE.txt')"
   ]
  }
 ],
 "metadata": {
  "anaconda-cloud": {},
  "kernelspec": {
   "display_name": "Python [Root]",
   "language": "python",
   "name": "Python [Root]"
  },
  "language_info": {
   "codemirror_mode": {
    "name": "ipython",
    "version": 3
   },
   "file_extension": ".py",
   "mimetype": "text/x-python",
   "name": "python",
   "nbconvert_exporter": "python",
   "pygments_lexer": "ipython3",
   "version": "3.5.2"
  }
 },
 "nbformat": 4,
 "nbformat_minor": 2
}
